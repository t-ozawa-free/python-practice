{
 "cells": [
  {
   "cell_type": "markdown",
   "id": "3b57e8a0",
   "metadata": {},
   "source": [
    "# Day 6 - forループの基本（解答付き）\n",
    "\n",
    "以下は解答例です。"
   ]
  },
  {
   "cell_type": "markdown",
   "id": "78015bbb",
   "metadata": {},
   "source": [
    "### 問題1\n",
    "1. 1から5までの数字を出力してください。"
   ]
  },
  {
   "cell_type": "markdown",
   "id": "724582ee",
   "metadata": {},
   "source": [
    "### 問題2\n",
    "2. リストの各要素を順に出力してください。"
   ]
  },
  {
   "cell_type": "markdown",
   "id": "93aea52e",
   "metadata": {},
   "source": [
    "### 問題3\n",
    "3. 1から10までの偶数を出力してください。"
   ]
  },
  {
   "cell_type": "markdown",
   "id": "0c1ddbeb",
   "metadata": {},
   "source": [
    "### 問題4\n",
    "4. 文字列の各文字を1文字ずつ出力してください。"
   ]
  },
  {
   "cell_type": "markdown",
   "id": "4fdb92be",
   "metadata": {},
   "source": [
    "### 問題5\n",
    "5. forループとrangeを使って合計を求めてください（1〜100）。"
   ]
  },
  {
   "cell_type": "code",
   "execution_count": null,
   "id": "6ee7dfaf",
   "metadata": {},
   "outputs": [],
   "source": [
    "for i in range(1, 6):\n",
    "    print(i)"
   ]
  },
  {
   "cell_type": "code",
   "execution_count": null,
   "id": "91957814",
   "metadata": {},
   "outputs": [],
   "source": [
    "fruits = ['apple', 'banana', 'orange']\n",
    "for fruit in fruits:\n",
    "    print(fruit)"
   ]
  },
  {
   "cell_type": "code",
   "execution_count": null,
   "id": "aa9305fc",
   "metadata": {},
   "outputs": [],
   "source": [
    "for i in range(2, 11, 2):\n",
    "    print(i)"
   ]
  },
  {
   "cell_type": "code",
   "execution_count": null,
   "id": "6a0e60d0",
   "metadata": {},
   "outputs": [],
   "source": [
    "for char in 'hello':\n",
    "    print(char)"
   ]
  },
  {
   "cell_type": "code",
   "execution_count": null,
   "id": "7e1521dd",
   "metadata": {},
   "outputs": [],
   "source": [
    "total = 0\n",
    "for i in range(1, 101):\n",
    "    total += i\n",
    "print(total)"
   ]
  }
 ],
 "metadata": {},
 "nbformat": 4,
 "nbformat_minor": 5
}
