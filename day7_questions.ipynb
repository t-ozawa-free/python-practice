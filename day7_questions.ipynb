{
 "cells": [
  {
   "cell_type": "markdown",
   "id": "01c97457",
   "metadata": {},
   "source": [
    "# Day 7 - whileループとbreak\n",
    "\n",
    "以下の問題に答えてください。"
   ]
  },
  {
   "cell_type": "markdown",
   "id": "6f03dc5a",
   "metadata": {},
   "source": [
    "### 問題1\n",
    "1. while文で1から5まで出力してください。"
   ]
  },
  {
   "cell_type": "markdown",
   "id": "841400e7",
   "metadata": {},
   "source": [
    "### 問題2\n",
    "2. 無限ループを作り、breakで終了してください。"
   ]
  },
  {
   "cell_type": "markdown",
   "id": "919efc43",
   "metadata": {},
   "source": [
    "### 問題3\n",
    "3. 1から10の間で偶数だけを出力してください。"
   ]
  },
  {
   "cell_type": "markdown",
   "id": "af327f96",
   "metadata": {},
   "source": [
    "### 問題4\n",
    "4. 1から100のうち最初に10で割り切れる数を見つけて終了してください。"
   ]
  },
  {
   "cell_type": "markdown",
   "id": "8e7f8763",
   "metadata": {},
   "source": [
    "### 問題5\n",
    "5. whileループでリストを使って要素をすべて出力してください。"
   ]
  },
  {
   "cell_type": "code",
   "execution_count": null,
   "id": "000c04d8",
   "metadata": {},
   "outputs": [],
   "source": [
    "# ここにコードを書いてください"
   ]
  },
  {
   "cell_type": "code",
   "execution_count": null,
   "id": "c3be30bc",
   "metadata": {},
   "outputs": [],
   "source": [
    "# ここにコードを書いてください"
   ]
  },
  {
   "cell_type": "code",
   "execution_count": null,
   "id": "42e060d5",
   "metadata": {},
   "outputs": [],
   "source": [
    "# ここにコードを書いてください"
   ]
  },
  {
   "cell_type": "code",
   "execution_count": null,
   "id": "3ba31de6",
   "metadata": {},
   "outputs": [],
   "source": [
    "# ここにコードを書いてください"
   ]
  },
  {
   "cell_type": "code",
   "execution_count": null,
   "id": "16a48ae8",
   "metadata": {},
   "outputs": [],
   "source": [
    "# ここにコードを書いてください"
   ]
  }
 ],
 "metadata": {},
 "nbformat": 4,
 "nbformat_minor": 5
}
