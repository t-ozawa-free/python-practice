{
 "cells": [
  {
   "cell_type": "markdown",
   "id": "01c97457",
   "metadata": {},
   "source": [
    "# Day 7 - whileループとbreak\n",
    "\n",
    "以下の問題に答えてください。"
   ]
  },
  {
   "cell_type": "markdown",
   "id": "6f03dc5a",
   "metadata": {},
   "source": [
    "### 問題1\n",
    "1. while文で1から5まで出力してください。"
   ]
  },
  {
   "cell_type": "code",
   "execution_count": 1,
   "id": "45ae1049",
   "metadata": {},
   "outputs": [
    {
     "name": "stdout",
     "output_type": "stream",
     "text": [
      "1\n",
      "2\n",
      "3\n",
      "4\n",
      "5\n"
     ]
    }
   ],
   "source": [
    "i = 1\n",
    "while i < 6:\n",
    "    print(i)\n",
    "    i+=1\n",
    "\n",
    "   "
   ]
  },
  {
   "cell_type": "markdown",
   "id": "841400e7",
   "metadata": {},
   "source": [
    "### 問題2\n",
    "2. 無限ループを作り、breakで終了してください。"
   ]
  },
  {
   "cell_type": "code",
   "execution_count": 2,
   "id": "34f5ae23",
   "metadata": {},
   "outputs": [
    {
     "name": "stdout",
     "output_type": "stream",
     "text": [
      "100\n"
     ]
    }
   ],
   "source": [
    "j = 1\n",
    "while 1:\n",
    "    if j == 100:\n",
    "        break\n",
    "    j+=1\n",
    "\n",
    "print(j)"
   ]
  },
  {
   "cell_type": "markdown",
   "id": "919efc43",
   "metadata": {},
   "source": [
    "### 問題3\n",
    "3. 1から10の間で偶数だけを出力してください。"
   ]
  },
  {
   "cell_type": "code",
   "execution_count": 3,
   "id": "4d39cfdc",
   "metadata": {},
   "outputs": [
    {
     "name": "stdout",
     "output_type": "stream",
     "text": [
      "2\n",
      "4\n",
      "6\n",
      "8\n",
      "10\n"
     ]
    }
   ],
   "source": [
    "k = 1\n",
    "while k < 11:\n",
    "    if k % 2 == 0:\n",
    "        print(k)\n",
    "    k+=1\n"
   ]
  },
  {
   "cell_type": "markdown",
   "id": "af327f96",
   "metadata": {},
   "source": [
    "### 問題4\n",
    "4. 1から100のうち最初に10で割り切れる数を見つけて終了してください。"
   ]
  },
  {
   "cell_type": "code",
   "execution_count": 5,
   "id": "0d88bf49",
   "metadata": {},
   "outputs": [
    {
     "name": "stdout",
     "output_type": "stream",
     "text": [
      "10\n"
     ]
    }
   ],
   "source": [
    "l = 1\n",
    "while l <= 100:\n",
    "    if l % 10 == 0:\n",
    "        break\n",
    "    l+=1\n",
    "\n",
    "print(l)"
   ]
  },
  {
   "cell_type": "markdown",
   "id": "8e7f8763",
   "metadata": {},
   "source": [
    "### 問題5\n",
    "5. whileループでリストを使って要素をすべて出力してください。"
   ]
  },
  {
   "cell_type": "code",
   "execution_count": 6,
   "id": "000c04d8",
   "metadata": {},
   "outputs": [
    {
     "name": "stdout",
     "output_type": "stream",
     "text": [
      "[1, 2, 3, 4, 5, 6, 7, 8, 9, 10, 11, 12, 13, 14, 15, 16, 17, 18, 19, 20, 21, 22, 23, 24, 25, 26, 27, 28, 29, 30, 31, 32, 33, 34, 35, 36, 37, 38, 39, 40, 41, 42, 43, 44, 45, 46, 47, 48, 49, 50, 51, 52, 53, 54, 55, 56, 57, 58, 59, 60, 61, 62, 63, 64, 65, 66, 67, 68, 69, 70, 71, 72, 73, 74, 75, 76, 77, 78, 79, 80, 81, 82, 83, 84, 85, 86, 87, 88, 89, 90, 91, 92, 93, 94, 95, 96, 97, 98, 99, 100]\n"
     ]
    }
   ],
   "source": [
    "list_test = []\n",
    "m = 1\n",
    "while m <= 100:\n",
    "    list_test.append(m)\n",
    "    m+=1\n",
    "\n",
    "print(list_test)\n"
   ]
  }
 ],
 "metadata": {
  "kernelspec": {
   "display_name": "ai-study",
   "language": "python",
   "name": "python3"
  },
  "language_info": {
   "codemirror_mode": {
    "name": "ipython",
    "version": 3
   },
   "file_extension": ".py",
   "mimetype": "text/x-python",
   "name": "python",
   "nbconvert_exporter": "python",
   "pygments_lexer": "ipython3",
   "version": "3.11.13"
  }
 },
 "nbformat": 4,
 "nbformat_minor": 5
}
