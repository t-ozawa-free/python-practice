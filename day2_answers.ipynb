{
 "cells": [
  {
   "cell_type": "markdown",
   "id": "ec21253e",
   "metadata": {},
   "source": [
    "# Day 2 - 条件分岐（if文）（解答付き）\n",
    "\n",
    "以下は解答例です。"
   ]
  },
  {
   "cell_type": "markdown",
   "id": "8f95e3dd",
   "metadata": {},
   "source": [
    "### 問題1\n",
    "1. 変数xが10より大きいかどうか判定してください。"
   ]
  },
  {
   "cell_type": "markdown",
   "id": "21f368a1",
   "metadata": {},
   "source": [
    "### 問題2\n",
    "2. xが偶数か奇数かを判断するプログラムを書いてください。"
   ]
  },
  {
   "cell_type": "markdown",
   "id": "041e4a6e",
   "metadata": {},
   "source": [
    "### 問題3\n",
    "3. if-elif-elseを使って、点数に応じて評価を表示してください（90点以上：優、70点以上：良、それ以外：可）。"
   ]
  },
  {
   "cell_type": "markdown",
   "id": "85dd1bd1",
   "metadata": {},
   "source": [
    "### 問題4\n",
    "4. and, or, notの使い方を実例で示してください。"
   ]
  },
  {
   "cell_type": "markdown",
   "id": "9eb9c077",
   "metadata": {},
   "source": [
    "### 問題5\n",
    "5. input()で入力を受け取り、10以上かどうかを判定してください。"
   ]
  },
  {
   "cell_type": "code",
   "execution_count": null,
   "id": "64d253ae",
   "metadata": {},
   "outputs": [],
   "source": [
    "x = 15\n",
    "if x > 10:\n",
    "    print('10より大きい')"
   ]
  },
  {
   "cell_type": "code",
   "execution_count": null,
   "id": "0fd641aa",
   "metadata": {},
   "outputs": [],
   "source": [
    "x = 4\n",
    "if x % 2 == 0:\n",
    "    print('偶数')\n",
    "else:\n",
    "    print('奇数')"
   ]
  },
  {
   "cell_type": "code",
   "execution_count": null,
   "id": "866a5949",
   "metadata": {},
   "outputs": [],
   "source": [
    "score = 85\n",
    "if score >= 90:\n",
    "    print('優')\n",
    "elif score >= 70:\n",
    "    print('良')\n",
    "else:\n",
    "    print('可')"
   ]
  },
  {
   "cell_type": "code",
   "execution_count": null,
   "id": "07e2f155",
   "metadata": {},
   "outputs": [],
   "source": [
    "a = True\n",
    "b = False\n",
    "print(a and b)\n",
    "print(a or b)\n",
    "print(not a)"
   ]
  },
  {
   "cell_type": "code",
   "execution_count": null,
   "id": "77c6825e",
   "metadata": {},
   "outputs": [],
   "source": [
    "x = int(input('数字を入力してください:'))\n",
    "if x >= 10:\n",
    "    print('10以上')\n",
    "else:\n",
    "    print('10未満')"
   ]
  }
 ],
 "metadata": {},
 "nbformat": 4,
 "nbformat_minor": 5
}
