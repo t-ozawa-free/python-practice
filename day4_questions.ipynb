{
 "cells": [
  {
   "cell_type": "markdown",
   "id": "2ab4d456",
   "metadata": {},
   "source": [
    "# Day 4 - 辞書の基本操作\n",
    "\n",
    "以下の問題に答えてください。"
   ]
  },
  {
   "cell_type": "markdown",
   "id": "019e5983",
   "metadata": {},
   "source": [
    "### 問題1\n",
    "1. 名前と年齢をキーとする辞書を作成してください。"
   ]
  },
  {
   "cell_type": "markdown",
   "id": "55986420",
   "metadata": {},
   "source": [
    "### 問題2\n",
    "2. 辞書から名前を取得して出力してください。"
   ]
  },
  {
   "cell_type": "markdown",
   "id": "023dac90",
   "metadata": {},
   "source": [
    "### 問題3\n",
    "3. 年齢を更新してください。"
   ]
  },
  {
   "cell_type": "markdown",
   "id": "644cd6a4",
   "metadata": {},
   "source": [
    "### 問題4\n",
    "4. 新しいキーと値を追加してください。"
   ]
  },
  {
   "cell_type": "markdown",
   "id": "fc790572",
   "metadata": {},
   "source": [
    "### 問題5\n",
    "5. 辞書の全てのキーを出力してください。"
   ]
  },
  {
   "cell_type": "code",
   "execution_count": 11,
   "id": "9d22e166",
   "metadata": {},
   "outputs": [
    {
     "name": "stdout",
     "output_type": "stream",
     "text": [
      "{'名前': '小澤', '年齢': 42}\n"
     ]
    }
   ],
   "source": [
    "# ここにコードを書いてください\n",
    "dict = {\"名前\":\"小澤\",\"年齢\":42}\n",
    "print(dict)"
   ]
  },
  {
   "cell_type": "code",
   "execution_count": null,
   "id": "3f20fff8",
   "metadata": {},
   "outputs": [
    {
     "name": "stdout",
     "output_type": "stream",
     "text": [
      "小澤\n",
      "dict_keys(['名前', '年齢'])\n"
     ]
    }
   ],
   "source": [
    "# ここにコードを書いてください\n",
    "print(dict[\"名前\"])\n"
   ]
  },
  {
   "cell_type": "code",
   "execution_count": 17,
   "id": "65255cc3",
   "metadata": {},
   "outputs": [
    {
     "name": "stdout",
     "output_type": "stream",
     "text": [
      "{'名前': '小澤', '年齢': 43}\n"
     ]
    }
   ],
   "source": [
    "# ここにコードを書いてください\n",
    "dict[\"年齢\"] = 43\n",
    "print(dict)"
   ]
  },
  {
   "cell_type": "code",
   "execution_count": 21,
   "id": "5ebc79b1",
   "metadata": {},
   "outputs": [
    {
     "name": "stdout",
     "output_type": "stream",
     "text": [
      "{'名前': '小澤', '年齢': 43, '職業': 'プログラマー'}\n"
     ]
    }
   ],
   "source": [
    "# ここにコードを書いてください\n",
    "dict.setdefault(\"職業\",\"プログラマー\")\n",
    "print(dict)"
   ]
  },
  {
   "cell_type": "code",
   "execution_count": 23,
   "id": "9e9be202",
   "metadata": {},
   "outputs": [
    {
     "name": "stdout",
     "output_type": "stream",
     "text": [
      "名前\n",
      "年齢\n",
      "職業\n"
     ]
    }
   ],
   "source": [
    "# ここにコードを書いてください\n",
    "for key in dict:\n",
    "    print(key)\n"
   ]
  },
  {
   "cell_type": "code",
   "execution_count": null,
   "id": "2e3206af",
   "metadata": {},
   "outputs": [],
   "source": []
  }
 ],
 "metadata": {
  "kernelspec": {
   "display_name": "ai-study",
   "language": "python",
   "name": "python3"
  },
  "language_info": {
   "codemirror_mode": {
    "name": "ipython",
    "version": 3
   },
   "file_extension": ".py",
   "mimetype": "text/x-python",
   "name": "python",
   "nbconvert_exporter": "python",
   "pygments_lexer": "ipython3",
   "version": "3.11.13"
  }
 },
 "nbformat": 4,
 "nbformat_minor": 5
}
