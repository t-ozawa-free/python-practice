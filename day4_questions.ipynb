{
 "cells": [
  {
   "cell_type": "markdown",
   "id": "2ab4d456",
   "metadata": {},
   "source": [
    "# Day 4 - 辞書の基本操作\n",
    "\n",
    "以下の問題に答えてください。"
   ]
  },
  {
   "cell_type": "markdown",
   "id": "019e5983",
   "metadata": {},
   "source": [
    "### 問題1\n",
    "1. 名前と年齢をキーとする辞書を作成してください。"
   ]
  },
  {
   "cell_type": "markdown",
   "id": "55986420",
   "metadata": {},
   "source": [
    "### 問題2\n",
    "2. 辞書から名前を取得して出力してください。"
   ]
  },
  {
   "cell_type": "markdown",
   "id": "023dac90",
   "metadata": {},
   "source": [
    "### 問題3\n",
    "3. 年齢を更新してください。"
   ]
  },
  {
   "cell_type": "markdown",
   "id": "644cd6a4",
   "metadata": {},
   "source": [
    "### 問題4\n",
    "4. 新しいキーと値を追加してください。"
   ]
  },
  {
   "cell_type": "markdown",
   "id": "fc790572",
   "metadata": {},
   "source": [
    "### 問題5\n",
    "5. 辞書の全てのキーを出力してください。"
   ]
  },
  {
   "cell_type": "code",
   "execution_count": null,
   "id": "9d22e166",
   "metadata": {},
   "outputs": [],
   "source": [
    "# ここにコードを書いてください"
   ]
  },
  {
   "cell_type": "code",
   "execution_count": null,
   "id": "3f20fff8",
   "metadata": {},
   "outputs": [],
   "source": [
    "# ここにコードを書いてください"
   ]
  },
  {
   "cell_type": "code",
   "execution_count": null,
   "id": "65255cc3",
   "metadata": {},
   "outputs": [],
   "source": [
    "# ここにコードを書いてください"
   ]
  },
  {
   "cell_type": "code",
   "execution_count": null,
   "id": "5ebc79b1",
   "metadata": {},
   "outputs": [],
   "source": [
    "# ここにコードを書いてください"
   ]
  },
  {
   "cell_type": "code",
   "execution_count": null,
   "id": "9e9be202",
   "metadata": {},
   "outputs": [],
   "source": [
    "# ここにコードを書いてください"
   ]
  }
 ],
 "metadata": {},
 "nbformat": 4,
 "nbformat_minor": 5
}
