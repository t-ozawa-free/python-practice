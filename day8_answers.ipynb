{
 "cells": [
  {
   "cell_type": "markdown",
   "id": "85b5fd86",
   "metadata": {},
   "source": [
    "# Day 8 - 関数の定義と呼び出し（解答付き）\n",
    "\n",
    "以下は解答例です。"
   ]
  },
  {
   "cell_type": "markdown",
   "id": "35f28b60",
   "metadata": {},
   "source": [
    "### 問題1\n",
    "1. 'Hello' を出力する関数を作成してください。"
   ]
  },
  {
   "cell_type": "markdown",
   "id": "c0f6d9b0",
   "metadata": {},
   "source": [
    "### 問題2\n",
    "2. 引数で渡された名前を出力する関数を作成してください。"
   ]
  },
  {
   "cell_type": "markdown",
   "id": "c482ea39",
   "metadata": {},
   "source": [
    "### 問題3\n",
    "3. 2つの引数を受け取り、和を返す関数を作成してください。"
   ]
  },
  {
   "cell_type": "markdown",
   "id": "6b60e268",
   "metadata": {},
   "source": [
    "### 問題4\n",
    "4. 文字列の長さを返す関数を作成してください。"
   ]
  },
  {
   "cell_type": "markdown",
   "id": "87047909",
   "metadata": {},
   "source": [
    "### 問題5\n",
    "5. リストの合計を返す関数を作成してください。"
   ]
  },
  {
   "cell_type": "code",
   "execution_count": null,
   "id": "25c89f87",
   "metadata": {},
   "outputs": [],
   "source": [
    "def greet():\n",
    "    print('Hello')\n",
    "greet()"
   ]
  },
  {
   "cell_type": "code",
   "execution_count": null,
   "id": "c2c2f112",
   "metadata": {},
   "outputs": [],
   "source": [
    "def greet(name):\n",
    "    print('Hello', name)\n",
    "greet('Taro')"
   ]
  },
  {
   "cell_type": "code",
   "execution_count": null,
   "id": "ce38d231",
   "metadata": {},
   "outputs": [],
   "source": [
    "def add(a, b):\n",
    "    return a + b\n",
    "print(add(3, 5))"
   ]
  },
  {
   "cell_type": "code",
   "execution_count": null,
   "id": "1ed28127",
   "metadata": {},
   "outputs": [],
   "source": [
    "def length(s):\n",
    "    return len(s)\n",
    "print(length('apple'))"
   ]
  },
  {
   "cell_type": "code",
   "execution_count": null,
   "id": "4e8c72ad",
   "metadata": {},
   "outputs": [],
   "source": [
    "def total(lst):\n",
    "    return sum(lst)\n",
    "print(total([1, 2, 3]))"
   ]
  }
 ],
 "metadata": {},
 "nbformat": 4,
 "nbformat_minor": 5
}
