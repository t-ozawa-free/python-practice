{
 "cells": [
  {
   "cell_type": "markdown",
   "id": "5959cb3c",
   "metadata": {},
   "source": [
    "# Day 3 - リストの基本操作\n",
    "\n",
    "以下の問題に答えてください。"
   ]
  },
  {
   "cell_type": "markdown",
   "id": "8e5362c7",
   "metadata": {},
   "source": [
    "### 問題1\n",
    "1. 数字を含むリストを作成し、すべて出力してください。"
   ]
  },
  {
   "cell_type": "markdown",
   "id": "dde19cd3",
   "metadata": {},
   "source": [
    "### 問題2\n",
    "2. リストの3番目の要素を取得して出力してください。"
   ]
  },
  {
   "cell_type": "markdown",
   "id": "d5fe5529",
   "metadata": {},
   "source": [
    "### 問題3\n",
    "3. リストに新しい要素を追加してください。"
   ]
  },
  {
   "cell_type": "markdown",
   "id": "16ca7a22",
   "metadata": {},
   "source": [
    "### 問題4\n",
    "4. リストから特定の要素を削除してください。"
   ]
  },
  {
   "cell_type": "markdown",
   "id": "74a081b9",
   "metadata": {},
   "source": [
    "### 問題5\n",
    "5. リストの要素数を取得してください。"
   ]
  },
  {
   "cell_type": "code",
   "execution_count": null,
   "id": "f4afea9f",
   "metadata": {},
   "outputs": [],
   "source": [
    "# ここにコードを書いてください"
   ]
  },
  {
   "cell_type": "code",
   "execution_count": null,
   "id": "51084ce4",
   "metadata": {},
   "outputs": [],
   "source": [
    "# ここにコードを書いてください"
   ]
  },
  {
   "cell_type": "code",
   "execution_count": null,
   "id": "e1720ae1",
   "metadata": {},
   "outputs": [],
   "source": [
    "# ここにコードを書いてください"
   ]
  },
  {
   "cell_type": "code",
   "execution_count": null,
   "id": "cdac9ec9",
   "metadata": {},
   "outputs": [],
   "source": [
    "# ここにコードを書いてください"
   ]
  },
  {
   "cell_type": "code",
   "execution_count": null,
   "id": "5b467068",
   "metadata": {},
   "outputs": [],
   "source": [
    "# ここにコードを書いてください"
   ]
  }
 ],
 "metadata": {},
 "nbformat": 4,
 "nbformat_minor": 5
}
