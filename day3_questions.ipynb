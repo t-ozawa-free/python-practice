{
 "cells": [
  {
   "cell_type": "markdown",
   "id": "5959cb3c",
   "metadata": {},
   "source": [
    "# Day 3 - リストの基本操作\n",
    "\n",
    "以下の問題に答えてください。"
   ]
  },
  {
   "cell_type": "markdown",
   "id": "8e5362c7",
   "metadata": {},
   "source": [
    "### 問題1\n",
    "1. 数字を含むリストを作成し、すべて出力してください。"
   ]
  },
  {
   "cell_type": "code",
   "execution_count": 4,
   "id": "c865d1b8",
   "metadata": {},
   "outputs": [
    {
     "name": "stdout",
     "output_type": "stream",
     "text": [
      "[1, 2, 3, 4, 5]\n",
      "1\n",
      "2\n",
      "3\n",
      "4\n",
      "5\n"
     ]
    }
   ],
   "source": [
    "list = [1,2,3,4,5]\n",
    "print(list)\n",
    "\n",
    "for i in range(len(list)):\n",
    "    print(list[i])"
   ]
  },
  {
   "cell_type": "markdown",
   "id": "dde19cd3",
   "metadata": {},
   "source": [
    "### 問題2\n",
    "2. リストの3番目の要素を取得して出力してください。"
   ]
  },
  {
   "cell_type": "code",
   "execution_count": 5,
   "id": "477cd719",
   "metadata": {},
   "outputs": [
    {
     "name": "stdout",
     "output_type": "stream",
     "text": [
      "8\n"
     ]
    }
   ],
   "source": [
    "list2 = [6,7,8,9,10]\n",
    "print(list2[2])"
   ]
  },
  {
   "cell_type": "markdown",
   "id": "d5fe5529",
   "metadata": {},
   "source": [
    "### 問題3\n",
    "3. リストに新しい要素を追加してください。"
   ]
  },
  {
   "cell_type": "code",
   "execution_count": 7,
   "id": "faf26820",
   "metadata": {},
   "outputs": [
    {
     "name": "stdout",
     "output_type": "stream",
     "text": [
      "[11, 12, 13, 14, 15]\n",
      "[11, 12, 13, 14, 15, 16]\n"
     ]
    }
   ],
   "source": [
    "list3 = [11,12,13,14,15]\n",
    "print(list3)\n",
    "list3.append(16)\n",
    "print(list3)"
   ]
  },
  {
   "cell_type": "markdown",
   "id": "16ca7a22",
   "metadata": {},
   "source": [
    "### 問題4\n",
    "4. リストから特定の要素を削除してください。"
   ]
  },
  {
   "cell_type": "code",
   "execution_count": 11,
   "id": "66c3b763",
   "metadata": {},
   "outputs": [
    {
     "name": "stdout",
     "output_type": "stream",
     "text": [
      "[11, 12, 14, 15, 16]\n"
     ]
    }
   ],
   "source": [
    "list3.pop(2)\n",
    "print(list3)"
   ]
  },
  {
   "cell_type": "markdown",
   "id": "74a081b9",
   "metadata": {},
   "source": [
    "### 問題5\n",
    "5. リストの要素数を取得してください。"
   ]
  },
  {
   "cell_type": "code",
   "execution_count": null,
   "id": "f4afea9f",
   "metadata": {},
   "outputs": [
    {
     "ename": "TypeError",
     "evalue": "index expected at least 1 argument, got 0",
     "output_type": "error",
     "traceback": [
      "\u001b[31m---------------------------------------------------------------------------\u001b[39m",
      "\u001b[31mTypeError\u001b[39m                                 Traceback (most recent call last)",
      "\u001b[36mCell\u001b[39m\u001b[36m \u001b[39m\u001b[32mIn[16]\u001b[39m\u001b[32m, line 1\u001b[39m\n\u001b[32m----> \u001b[39m\u001b[32m1\u001b[39m \u001b[38;5;28mprint\u001b[39m(list3.index())\n",
      "\u001b[31mTypeError\u001b[39m: index expected at least 1 argument, got 0"
     ]
    }
   ],
   "source": [
    "print(len(list3))"
   ]
  },
  {
   "cell_type": "code",
   "execution_count": null,
   "id": "bd265643",
   "metadata": {},
   "outputs": [],
   "source": []
  }
 ],
 "metadata": {
  "kernelspec": {
   "display_name": "ai-study",
   "language": "python",
   "name": "python3"
  },
  "language_info": {
   "codemirror_mode": {
    "name": "ipython",
    "version": 3
   },
   "file_extension": ".py",
   "mimetype": "text/x-python",
   "name": "python",
   "nbconvert_exporter": "python",
   "pygments_lexer": "ipython3",
   "version": "3.11.13"
  }
 },
 "nbformat": 4,
 "nbformat_minor": 5
}
