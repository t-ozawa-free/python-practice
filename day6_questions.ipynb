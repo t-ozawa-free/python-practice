{
 "cells": [
  {
   "cell_type": "markdown",
   "id": "d4c1ba3a",
   "metadata": {},
   "source": [
    "# Day 6 - forループの基本\n",
    "\n",
    "以下の問題に答えてください。"
   ]
  },
  {
   "cell_type": "markdown",
   "id": "b9d41465",
   "metadata": {},
   "source": [
    "### 問題1\n",
    "1. 1から5までの数字を出力してください。"
   ]
  },
  {
   "cell_type": "markdown",
   "id": "38f911f9",
   "metadata": {},
   "source": [
    "### 問題2\n",
    "2. リストの各要素を順に出力してください。"
   ]
  },
  {
   "cell_type": "markdown",
   "id": "34089812",
   "metadata": {},
   "source": [
    "### 問題3\n",
    "3. 1から10までの偶数を出力してください。"
   ]
  },
  {
   "cell_type": "markdown",
   "id": "2243e43c",
   "metadata": {},
   "source": [
    "### 問題4\n",
    "4. 文字列の各文字を1文字ずつ出力してください。"
   ]
  },
  {
   "cell_type": "markdown",
   "id": "799f6613",
   "metadata": {},
   "source": [
    "### 問題5\n",
    "5. forループとrangeを使って合計を求めてください（1〜100）。"
   ]
  },
  {
   "cell_type": "code",
   "execution_count": null,
   "id": "087e5454",
   "metadata": {},
   "outputs": [],
   "source": [
    "# ここにコードを書いてください"
   ]
  },
  {
   "cell_type": "code",
   "execution_count": null,
   "id": "d9abb802",
   "metadata": {},
   "outputs": [],
   "source": [
    "# ここにコードを書いてください"
   ]
  },
  {
   "cell_type": "code",
   "execution_count": null,
   "id": "49a63bd2",
   "metadata": {},
   "outputs": [],
   "source": [
    "# ここにコードを書いてください"
   ]
  },
  {
   "cell_type": "code",
   "execution_count": null,
   "id": "3dab1be1",
   "metadata": {},
   "outputs": [],
   "source": [
    "# ここにコードを書いてください"
   ]
  },
  {
   "cell_type": "code",
   "execution_count": null,
   "id": "cb36e466",
   "metadata": {},
   "outputs": [],
   "source": [
    "# ここにコードを書いてください"
   ]
  }
 ],
 "metadata": {},
 "nbformat": 4,
 "nbformat_minor": 5
}
