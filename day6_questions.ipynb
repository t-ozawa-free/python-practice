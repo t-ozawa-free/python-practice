{
 "cells": [
  {
   "cell_type": "markdown",
   "id": "d4c1ba3a",
   "metadata": {},
   "source": [
    "# Day 6 - forループの基本\n",
    "\n",
    "以下の問題に答えてください。"
   ]
  },
  {
   "cell_type": "markdown",
   "id": "b9d41465",
   "metadata": {},
   "source": [
    "### 問題1\n",
    "1. 1から5までの数字を出力してください。"
   ]
  },
  {
   "cell_type": "code",
   "execution_count": 1,
   "id": "b342bfe3",
   "metadata": {},
   "outputs": [
    {
     "name": "stdout",
     "output_type": "stream",
     "text": [
      "1\n",
      "2\n",
      "3\n",
      "4\n",
      "5\n"
     ]
    }
   ],
   "source": [
    "for i in range(5):\n",
    "    print(i+1)"
   ]
  },
  {
   "cell_type": "markdown",
   "id": "38f911f9",
   "metadata": {},
   "source": [
    "### 問題2\n",
    "2. リストの各要素を順に出力してください。"
   ]
  },
  {
   "cell_type": "code",
   "execution_count": 2,
   "id": "d5238060",
   "metadata": {},
   "outputs": [
    {
     "name": "stdout",
     "output_type": "stream",
     "text": [
      "猫\n",
      "犬\n",
      "兎\n"
     ]
    }
   ],
   "source": [
    "list = [\"猫\", \"犬\", \"兎\"]\n",
    "for i in list:\n",
    "    print(i)"
   ]
  },
  {
   "cell_type": "markdown",
   "id": "34089812",
   "metadata": {},
   "source": [
    "### 問題3\n",
    "3. 1から10までの偶数を出力してください。"
   ]
  },
  {
   "cell_type": "code",
   "execution_count": 4,
   "id": "c6c169f2",
   "metadata": {},
   "outputs": [
    {
     "name": "stdout",
     "output_type": "stream",
     "text": [
      "2\n",
      "4\n",
      "6\n",
      "8\n",
      "10\n"
     ]
    }
   ],
   "source": [
    "for i in range(10):\n",
    "    if (i+1) % 2 == 0:\n",
    "        print(i+1)\n",
    "        continue"
   ]
  },
  {
   "cell_type": "markdown",
   "id": "2243e43c",
   "metadata": {},
   "source": [
    "### 問題4\n",
    "4. 文字列の各文字を1文字ずつ出力してください。"
   ]
  },
  {
   "cell_type": "code",
   "execution_count": 5,
   "id": "6be79c54",
   "metadata": {},
   "outputs": [
    {
     "name": "stdout",
     "output_type": "stream",
     "text": [
      "あ\n",
      "い\n",
      "う\n",
      "え\n",
      "お\n"
     ]
    }
   ],
   "source": [
    "text = \"あいうえお\"\n",
    "\n",
    "for i in text:\n",
    "    print(i)"
   ]
  },
  {
   "cell_type": "markdown",
   "id": "799f6613",
   "metadata": {},
   "source": [
    "### 問題5\n",
    "5. forループとrangeを使って合計を求めてください（1〜100）。"
   ]
  },
  {
   "cell_type": "code",
   "execution_count": 7,
   "id": "087e5454",
   "metadata": {},
   "outputs": [
    {
     "name": "stdout",
     "output_type": "stream",
     "text": [
      "4950\n"
     ]
    }
   ],
   "source": [
    "n = 0\n",
    "for i in range(100):\n",
    "    n = n + i\n",
    "print(n)\n"
   ]
  }
 ],
 "metadata": {
  "kernelspec": {
   "display_name": "ai-study",
   "language": "python",
   "name": "python3"
  },
  "language_info": {
   "codemirror_mode": {
    "name": "ipython",
    "version": 3
   },
   "file_extension": ".py",
   "mimetype": "text/x-python",
   "name": "python",
   "nbconvert_exporter": "python",
   "pygments_lexer": "ipython3",
   "version": "3.11.13"
  }
 },
 "nbformat": 4,
 "nbformat_minor": 5
}
