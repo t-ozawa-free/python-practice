{
 "cells": [
  {
   "cell_type": "markdown",
   "id": "7d4704fa",
   "metadata": {},
   "source": [
    "# Day 2 - 条件分岐（if文）\n",
    "\n",
    "以下の問題に答えてください。"
   ]
  },
  {
   "cell_type": "markdown",
   "id": "7ee4cdd0",
   "metadata": {},
   "source": [
    "### 問題1\n",
    "1. 変数xが10より大きいかどうか判定してください。"
   ]
  },
  {
   "cell_type": "markdown",
   "id": "7b7fabf8",
   "metadata": {},
   "source": [
    "### 問題2\n",
    "2. xが偶数か奇数かを判断するプログラムを書いてください。"
   ]
  },
  {
   "cell_type": "markdown",
   "id": "0d5fef6e",
   "metadata": {},
   "source": [
    "### 問題3\n",
    "3. if-elif-elseを使って、点数に応じて評価を表示してください（90点以上：優、70点以上：良、それ以外：可）。"
   ]
  },
  {
   "cell_type": "markdown",
   "id": "1c7e74df",
   "metadata": {},
   "source": [
    "### 問題4\n",
    "4. and, or, notの使い方を実例で示してください。"
   ]
  },
  {
   "cell_type": "markdown",
   "id": "dc643094",
   "metadata": {},
   "source": [
    "### 問題5\n",
    "5. input()で入力を受け取り、10以上かどうかを判定してください。"
   ]
  },
  {
   "cell_type": "code",
   "execution_count": null,
   "id": "83bc91de",
   "metadata": {},
   "outputs": [],
   "source": [
    "# ここにコードを書いてください"
   ]
  },
  {
   "cell_type": "code",
   "execution_count": null,
   "id": "fb2d8fef",
   "metadata": {},
   "outputs": [],
   "source": [
    "# ここにコードを書いてください"
   ]
  },
  {
   "cell_type": "code",
   "execution_count": null,
   "id": "14012b99",
   "metadata": {},
   "outputs": [],
   "source": [
    "# ここにコードを書いてください"
   ]
  },
  {
   "cell_type": "code",
   "execution_count": null,
   "id": "b1d12162",
   "metadata": {},
   "outputs": [],
   "source": [
    "# ここにコードを書いてください"
   ]
  },
  {
   "cell_type": "code",
   "execution_count": null,
   "id": "9016872d",
   "metadata": {},
   "outputs": [],
   "source": [
    "# ここにコードを書いてください"
   ]
  }
 ],
 "metadata": {},
 "nbformat": 4,
 "nbformat_minor": 5
}
