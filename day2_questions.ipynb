{
 "cells": [
  {
   "cell_type": "markdown",
   "id": "7d4704fa",
   "metadata": {},
   "source": [
    "# Day 2 - 条件分岐（if文）\n",
    "\n",
    "以下の問題に答えてください。"
   ]
  },
  {
   "cell_type": "markdown",
   "id": "7ee4cdd0",
   "metadata": {},
   "source": [
    "### 問題1\n",
    "1. 変数xが10より大きいかどうか判定してください。"
   ]
  },
  {
   "cell_type": "code",
   "execution_count": 1,
   "id": "399584df",
   "metadata": {},
   "outputs": [
    {
     "name": "stdout",
     "output_type": "stream",
     "text": [
      "10より小さい・・・\n"
     ]
    }
   ],
   "source": [
    "x = 9\n",
    "if x>10:\n",
    "    print(\"10より大きい！\")\n",
    "else:\n",
    "    print(\"10より小さい・・・\")"
   ]
  },
  {
   "cell_type": "markdown",
   "id": "7b7fabf8",
   "metadata": {},
   "source": [
    "### 問題2\n",
    "2. xが偶数か奇数かを判断するプログラムを書いてください。"
   ]
  },
  {
   "cell_type": "code",
   "execution_count": 2,
   "id": "7643ce1f",
   "metadata": {},
   "outputs": [
    {
     "name": "stdout",
     "output_type": "stream",
     "text": [
      "xは偶数です！\n"
     ]
    }
   ],
   "source": [
    "x = 10\n",
    "if x % 2 == 0:\n",
    "    print(\"xは偶数です！\")\n",
    "else:\n",
    "    print(\"xは奇数です！\")"
   ]
  },
  {
   "cell_type": "markdown",
   "id": "0d5fef6e",
   "metadata": {},
   "source": [
    "### 問題3\n",
    "3. if-elif-elseを使って、点数に応じて評価を表示してください（90点以上：優、70点以上：良、それ以外：可）。"
   ]
  },
  {
   "cell_type": "code",
   "execution_count": 4,
   "id": "910d146d",
   "metadata": {},
   "outputs": [
    {
     "name": "stdout",
     "output_type": "stream",
     "text": [
      "良\n"
     ]
    }
   ],
   "source": [
    "x = 89\n",
    "if x >= 90:\n",
    "    print(\"優\")\n",
    "elif x >= 70:\n",
    "    print(\"良\")\n",
    "else:\n",
    "    print(\"可\")\n"
   ]
  },
  {
   "cell_type": "markdown",
   "id": "1c7e74df",
   "metadata": {},
   "source": [
    "### 問題4\n",
    "4. and, or, notの使い方を実例で示してください。"
   ]
  },
  {
   "cell_type": "code",
   "execution_count": 7,
   "id": "b62c7fc5",
   "metadata": {},
   "outputs": [
    {
     "name": "stdout",
     "output_type": "stream",
     "text": [
      "範囲内！\n",
      "xかyどちらかは範囲内！\n",
      "範囲外\n"
     ]
    }
   ],
   "source": [
    "x = 10\n",
    "if x > 0 and x < 11: #xは1～10の間か？\n",
    "    print(\"範囲内！\")\n",
    "else:\n",
    "    print(\"範囲外\")\n",
    "y = 11\n",
    "if (x > 0 and x < 11) or (y > 0 and y < 11):\n",
    "    print(\"xかyどちらかは範囲内！\")\n",
    "else:\n",
    "    print(\"xとyどちらも範囲外！\")\n",
    "\n",
    "if not(x > 0 and x < 11): #xは1～10の間以外か？\n",
    "    print(\"範囲内！\")\n",
    "else:\n",
    "    print(\"範囲外\")\n"
   ]
  },
  {
   "cell_type": "markdown",
   "id": "dc643094",
   "metadata": {},
   "source": [
    "### 問題5\n",
    "5. input()で入力を受け取り、10以上かどうかを判定してください。"
   ]
  },
  {
   "cell_type": "code",
   "execution_count": 9,
   "id": "83bc91de",
   "metadata": {},
   "outputs": [
    {
     "name": "stdout",
     "output_type": "stream",
     "text": [
      "10以上！\n"
     ]
    }
   ],
   "source": [
    "# ここにコードを書いてください\n",
    "in_num = int(input(\"数字を入れてください\"))\n",
    "if in_num >= 10:\n",
    "    print(\"10以上！\")\n",
    "else:\n",
    "    print(\"10未満！\")"
   ]
  }
 ],
 "metadata": {
  "kernelspec": {
   "display_name": "ai-study",
   "language": "python",
   "name": "python3"
  },
  "language_info": {
   "codemirror_mode": {
    "name": "ipython",
    "version": 3
   },
   "file_extension": ".py",
   "mimetype": "text/x-python",
   "name": "python",
   "nbconvert_exporter": "python",
   "pygments_lexer": "ipython3",
   "version": "3.11.13"
  }
 },
 "nbformat": 4,
 "nbformat_minor": 5
}
