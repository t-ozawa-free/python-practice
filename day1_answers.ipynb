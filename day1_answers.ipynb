{
 "cells": [
  {
   "cell_type": "markdown",
   "id": "ea82dea6",
   "metadata": {},
   "source": [
    "# Day 1 - 変数と基本的なデータ型（解答付き）\n",
    "\n",
    "以下は解答例です。"
   ]
  },
  {
   "cell_type": "markdown",
   "id": "e2c525b2",
   "metadata": {},
   "source": [
    "### 問題1\n",
    "1. 変数xに10を代入し、xを出力してください。"
   ]
  },
  {
   "cell_type": "markdown",
   "id": "9536be71",
   "metadata": {},
   "source": [
    "### 問題2\n",
    "2. 変数aに5、bに3を代入し、a + bの結果を出力してください。"
   ]
  },
  {
   "cell_type": "markdown",
   "id": "399f6476",
   "metadata": {},
   "source": [
    "### 問題3\n",
    "3. 整数と文字列の違いを説明し、例を挙げてください。"
   ]
  },
  {
   "cell_type": "markdown",
   "id": "8210ae14",
   "metadata": {},
   "source": [
    "### 問題4\n",
    "4. 浮動小数点数と整数の計算例を示してください。"
   ]
  },
  {
   "cell_type": "markdown",
   "id": "72c5a919",
   "metadata": {},
   "source": [
    "### 問題5\n",
    "5. type()関数を使って、変数の型を調べてください。"
   ]
  },
  {
   "cell_type": "code",
   "execution_count": null,
   "id": "4a544cdc",
   "metadata": {},
   "outputs": [],
   "source": [
    "x = 10\n",
    "print(x)"
   ]
  },
  {
   "cell_type": "code",
   "execution_count": null,
   "id": "4749e7c3",
   "metadata": {},
   "outputs": [],
   "source": [
    "a = 5\n",
    "b = 3\n",
    "print(a + b)"
   ]
  },
  {
   "cell_type": "code",
   "execution_count": null,
   "id": "052a0972",
   "metadata": {},
   "outputs": [],
   "source": [
    "# 整数は数値、文字列はテキスト。\n",
    "num = 5  # 整数\n",
    "text = '5'  # 文字列"
   ]
  },
  {
   "cell_type": "code",
   "execution_count": null,
   "id": "ba85e13b",
   "metadata": {},
   "outputs": [],
   "source": [
    "print(3 + 2.5)"
   ]
  },
  {
   "cell_type": "code",
   "execution_count": null,
   "id": "53dbde6a",
   "metadata": {},
   "outputs": [],
   "source": [
    "a = 'hello'\n",
    "print(type(a))"
   ]
  }
 ],
 "metadata": {},
 "nbformat": 4,
 "nbformat_minor": 5
}
