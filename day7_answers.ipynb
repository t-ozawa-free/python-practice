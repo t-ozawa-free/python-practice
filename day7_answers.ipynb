{
 "cells": [
  {
   "cell_type": "markdown",
   "id": "0d04dcd1",
   "metadata": {},
   "source": [
    "# Day 7 - whileループとbreak（解答付き）\n",
    "\n",
    "以下は解答例です。"
   ]
  },
  {
   "cell_type": "markdown",
   "id": "e368c7d5",
   "metadata": {},
   "source": [
    "### 問題1\n",
    "1. while文で1から5まで出力してください。"
   ]
  },
  {
   "cell_type": "markdown",
   "id": "993b69fb",
   "metadata": {},
   "source": [
    "### 問題2\n",
    "2. 無限ループを作り、breakで終了してください。"
   ]
  },
  {
   "cell_type": "markdown",
   "id": "ac88d44e",
   "metadata": {},
   "source": [
    "### 問題3\n",
    "3. 1から10の間で偶数だけを出力してください。"
   ]
  },
  {
   "cell_type": "markdown",
   "id": "26cafeaf",
   "metadata": {},
   "source": [
    "### 問題4\n",
    "4. 1から100のうち最初に10で割り切れる数を見つけて終了してください。"
   ]
  },
  {
   "cell_type": "markdown",
   "id": "c6221ade",
   "metadata": {},
   "source": [
    "### 問題5\n",
    "5. whileループでリストを使って要素をすべて出力してください。"
   ]
  },
  {
   "cell_type": "code",
   "execution_count": null,
   "id": "cb7ec5a8",
   "metadata": {},
   "outputs": [],
   "source": [
    "i = 1\n",
    "while i <= 5:\n",
    "    print(i)\n",
    "    i += 1"
   ]
  },
  {
   "cell_type": "code",
   "execution_count": null,
   "id": "0277ce64",
   "metadata": {},
   "outputs": [],
   "source": [
    "while True:\n",
    "    print('ループ中')\n",
    "    break"
   ]
  },
  {
   "cell_type": "code",
   "execution_count": null,
   "id": "a1b57309",
   "metadata": {},
   "outputs": [],
   "source": [
    "i = 1\n",
    "while i <= 10:\n",
    "    if i % 2 == 0:\n",
    "        print(i)\n",
    "    i += 1"
   ]
  },
  {
   "cell_type": "code",
   "execution_count": null,
   "id": "086fe972",
   "metadata": {},
   "outputs": [],
   "source": [
    "i = 1\n",
    "while i <= 100:\n",
    "    if i % 10 == 0:\n",
    "        print(i)\n",
    "        break\n",
    "    i += 1"
   ]
  },
  {
   "cell_type": "code",
   "execution_count": null,
   "id": "fe44ce0e",
   "metadata": {},
   "outputs": [],
   "source": [
    "fruits = ['apple', 'banana', 'orange']\n",
    "i = 0\n",
    "while i < len(fruits):\n",
    "    print(fruits[i])\n",
    "    i += 1"
   ]
  }
 ],
 "metadata": {},
 "nbformat": 4,
 "nbformat_minor": 5
}
