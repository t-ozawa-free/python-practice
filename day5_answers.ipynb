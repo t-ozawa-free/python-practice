{
 "cells": [
  {
   "cell_type": "markdown",
   "id": "dd0b257a",
   "metadata": {},
   "source": [
    "# Day 5 - 文字列操作の基礎（解答付き）\n",
    "\n",
    "以下は解答例です。"
   ]
  },
  {
   "cell_type": "markdown",
   "id": "ba133d24",
   "metadata": {},
   "source": [
    "### 問題1\n",
    "1. 自分の名前を変数に代入して出力してください。"
   ]
  },
  {
   "cell_type": "markdown",
   "id": "85b1277b",
   "metadata": {},
   "source": [
    "### 問題2\n",
    "2. 名前の文字数を取得してください。"
   ]
  },
  {
   "cell_type": "markdown",
   "id": "0f63fa2a",
   "metadata": {},
   "source": [
    "### 問題3\n",
    "3. 文字列を大文字に変換してください。"
   ]
  },
  {
   "cell_type": "markdown",
   "id": "6ff6e20c",
   "metadata": {},
   "source": [
    "### 問題4\n",
    "4. 文字列を小文字に変換してください。"
   ]
  },
  {
   "cell_type": "markdown",
   "id": "4a415014",
   "metadata": {},
   "source": [
    "### 問題5\n",
    "5. スペースで文字列を分割してください。"
   ]
  },
  {
   "cell_type": "code",
   "execution_count": null,
   "id": "f04b23e8",
   "metadata": {},
   "outputs": [],
   "source": [
    "name = 'Taro'\n",
    "print(name)"
   ]
  },
  {
   "cell_type": "code",
   "execution_count": null,
   "id": "ee1a291f",
   "metadata": {},
   "outputs": [],
   "source": [
    "name = 'Taro'\n",
    "print(len(name))"
   ]
  },
  {
   "cell_type": "code",
   "execution_count": null,
   "id": "7059f571",
   "metadata": {},
   "outputs": [],
   "source": [
    "name = 'Taro'\n",
    "print(name.upper())"
   ]
  },
  {
   "cell_type": "code",
   "execution_count": null,
   "id": "d87b7742",
   "metadata": {},
   "outputs": [],
   "source": [
    "name = 'TARO'\n",
    "print(name.lower())"
   ]
  },
  {
   "cell_type": "code",
   "execution_count": null,
   "id": "1d46b5da",
   "metadata": {},
   "outputs": [],
   "source": [
    "sentence = 'Hello Python World'\n",
    "print(sentence.split())"
   ]
  }
 ],
 "metadata": {},
 "nbformat": 4,
 "nbformat_minor": 5
}
