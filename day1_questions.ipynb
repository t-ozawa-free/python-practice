{
 "cells": [
  {
   "cell_type": "markdown",
   "id": "65254411",
   "metadata": {},
   "source": [
    "# Day 1 - 変数と基本的なデータ型\n",
    "\n",
    "以下の問題に答えてください。"
   ]
  },
  {
   "cell_type": "markdown",
   "id": "ff84e2a4",
   "metadata": {},
   "source": [
    "### 問題1\n",
    "1. 変数xに10を代入し、xを出力してください。"
   ]
  },
  {
   "cell_type": "code",
   "execution_count": 2,
   "id": "5bdc3ddf",
   "metadata": {},
   "outputs": [
    {
     "name": "stdout",
     "output_type": "stream",
     "text": [
      "10\n"
     ]
    }
   ],
   "source": [
    "x = 10\n",
    "print(x)"
   ]
  },
  {
   "cell_type": "markdown",
   "id": "e191cbb0",
   "metadata": {},
   "source": [
    "### 問題2\n",
    "2. 変数aに5、bに3を代入し、a + bの結果を出力してください。"
   ]
  },
  {
   "cell_type": "code",
   "execution_count": 3,
   "id": "05d967c0",
   "metadata": {},
   "outputs": [
    {
     "name": "stdout",
     "output_type": "stream",
     "text": [
      "8\n"
     ]
    }
   ],
   "source": [
    "a = 5\n",
    "b = 3\n",
    "print(a+b)"
   ]
  },
  {
   "cell_type": "markdown",
   "id": "ee72c824",
   "metadata": {},
   "source": [
    "### 問題3\n",
    "3. 整数と文字列の違いを説明し、例を挙げてください。"
   ]
  },
  {
   "cell_type": "code",
   "execution_count": null,
   "id": "b683c603",
   "metadata": {},
   "outputs": [],
   "source": [
    "#整数は数字、文字列は文字やテキスト\n",
    "num = 10 #整数\n",
    "str = \"こんにちは\" #文字列"
   ]
  },
  {
   "cell_type": "markdown",
   "id": "6a73bc64",
   "metadata": {},
   "source": [
    "### 問題4\n",
    "4. 浮動小数点数と整数の計算例を示してください。"
   ]
  },
  {
   "cell_type": "code",
   "execution_count": 4,
   "id": "f4bf09ed",
   "metadata": {},
   "outputs": [
    {
     "name": "stdout",
     "output_type": "stream",
     "text": [
      "20.5\n"
     ]
    }
   ],
   "source": [
    "c = 10\n",
    "d = 10.5\n",
    "print(c+d)"
   ]
  },
  {
   "cell_type": "markdown",
   "id": "e76c1c87",
   "metadata": {},
   "source": [
    "### 問題5\n",
    "5. type()関数を使って、変数の型を調べてください。"
   ]
  },
  {
   "cell_type": "code",
   "execution_count": 5,
   "id": "aa36e5b3",
   "metadata": {},
   "outputs": [
    {
     "data": {
      "text/plain": [
       "int"
      ]
     },
     "execution_count": 5,
     "metadata": {},
     "output_type": "execute_result"
    }
   ],
   "source": [
    "# ここにコードを書いてください\n",
    "type(a)"
   ]
  },
  {
   "cell_type": "code",
   "execution_count": 7,
   "id": "b55e8a0e",
   "metadata": {},
   "outputs": [
    {
     "data": {
      "text/plain": [
       "float"
      ]
     },
     "execution_count": 7,
     "metadata": {},
     "output_type": "execute_result"
    }
   ],
   "source": [
    "# ここにコードを書いてください\n",
    "type(d)"
   ]
  },
  {
   "cell_type": "code",
   "execution_count": 8,
   "id": "2b404bc4",
   "metadata": {},
   "outputs": [
    {
     "data": {
      "text/plain": [
       "bool"
      ]
     },
     "execution_count": 8,
     "metadata": {},
     "output_type": "execute_result"
    }
   ],
   "source": [
    "# ここにコードを書いてください\n",
    "e = True\n",
    "type(e)"
   ]
  },
  {
   "cell_type": "code",
   "execution_count": 10,
   "id": "28ae3871",
   "metadata": {},
   "outputs": [
    {
     "data": {
      "text/plain": [
       "str"
      ]
     },
     "execution_count": 10,
     "metadata": {},
     "output_type": "execute_result"
    }
   ],
   "source": [
    "# ここにコードを書いてください\n",
    "f = \"こんにちは\"\n",
    "type(f)"
   ]
  }
 ],
 "metadata": {
  "kernelspec": {
   "display_name": "ai-study",
   "language": "python",
   "name": "python3"
  },
  "language_info": {
   "codemirror_mode": {
    "name": "ipython",
    "version": 3
   },
   "file_extension": ".py",
   "mimetype": "text/x-python",
   "name": "python",
   "nbconvert_exporter": "python",
   "pygments_lexer": "ipython3",
   "version": "3.11.13"
  }
 },
 "nbformat": 4,
 "nbformat_minor": 5
}
