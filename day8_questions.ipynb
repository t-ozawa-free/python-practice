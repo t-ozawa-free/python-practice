{
 "cells": [
  {
   "cell_type": "markdown",
   "id": "3bbc6278",
   "metadata": {},
   "source": [
    "# Day 8 - 関数の定義と呼び出し\n",
    "\n",
    "以下の問題に答えてください。"
   ]
  },
  {
   "cell_type": "markdown",
   "id": "54031eb5",
   "metadata": {},
   "source": [
    "### 問題1\n",
    "1. 'Hello' を出力する関数を作成してください。"
   ]
  },
  {
   "cell_type": "markdown",
   "id": "f219ab3e",
   "metadata": {},
   "source": [
    "### 問題2\n",
    "2. 引数で渡された名前を出力する関数を作成してください。"
   ]
  },
  {
   "cell_type": "markdown",
   "id": "fab46ed5",
   "metadata": {},
   "source": [
    "### 問題3\n",
    "3. 2つの引数を受け取り、和を返す関数を作成してください。"
   ]
  },
  {
   "cell_type": "markdown",
   "id": "298819c3",
   "metadata": {},
   "source": [
    "### 問題4\n",
    "4. 文字列の長さを返す関数を作成してください。"
   ]
  },
  {
   "cell_type": "markdown",
   "id": "94a1e184",
   "metadata": {},
   "source": [
    "### 問題5\n",
    "5. リストの合計を返す関数を作成してください。"
   ]
  },
  {
   "cell_type": "code",
   "execution_count": null,
   "id": "44cb55d5",
   "metadata": {},
   "outputs": [],
   "source": [
    "# ここにコードを書いてください"
   ]
  },
  {
   "cell_type": "code",
   "execution_count": null,
   "id": "b625361b",
   "metadata": {},
   "outputs": [],
   "source": [
    "# ここにコードを書いてください"
   ]
  },
  {
   "cell_type": "code",
   "execution_count": null,
   "id": "ffb16107",
   "metadata": {},
   "outputs": [],
   "source": [
    "# ここにコードを書いてください"
   ]
  },
  {
   "cell_type": "code",
   "execution_count": null,
   "id": "0aa75c96",
   "metadata": {},
   "outputs": [],
   "source": [
    "# ここにコードを書いてください"
   ]
  },
  {
   "cell_type": "code",
   "execution_count": null,
   "id": "29e1c9e2",
   "metadata": {},
   "outputs": [],
   "source": [
    "# ここにコードを書いてください"
   ]
  }
 ],
 "metadata": {},
 "nbformat": 4,
 "nbformat_minor": 5
}
