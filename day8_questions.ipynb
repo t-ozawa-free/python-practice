{
 "cells": [
  {
   "cell_type": "markdown",
   "id": "3bbc6278",
   "metadata": {},
   "source": [
    "# Day 8 - 関数の定義と呼び出し\n",
    "\n",
    "以下の問題に答えてください。"
   ]
  },
  {
   "cell_type": "markdown",
   "id": "54031eb5",
   "metadata": {},
   "source": [
    "### 問題1\n",
    "1. 'Hello' を出力する関数を作成してください。"
   ]
  },
  {
   "cell_type": "code",
   "execution_count": 1,
   "id": "117ec154",
   "metadata": {},
   "outputs": [
    {
     "name": "stdout",
     "output_type": "stream",
     "text": [
      "Hello\n"
     ]
    }
   ],
   "source": [
    "def say_hello():\n",
    "    print(\"Hello\")\n",
    "\n",
    "say_hello()"
   ]
  },
  {
   "cell_type": "markdown",
   "id": "f219ab3e",
   "metadata": {},
   "source": [
    "### 問題2\n",
    "2. 引数で渡された名前を出力する関数を作成してください。"
   ]
  },
  {
   "cell_type": "code",
   "execution_count": 2,
   "id": "cff9a982",
   "metadata": {},
   "outputs": [
    {
     "name": "stdout",
     "output_type": "stream",
     "text": [
      "小澤\n"
     ]
    }
   ],
   "source": [
    "def name_print(name):\n",
    "    print(name)\n",
    "\n",
    "name_print(\"小澤\")"
   ]
  },
  {
   "cell_type": "markdown",
   "id": "fab46ed5",
   "metadata": {},
   "source": [
    "### 問題3\n",
    "3. 2つの引数を受け取り、和を返す関数を作成してください。"
   ]
  },
  {
   "cell_type": "code",
   "execution_count": 3,
   "id": "eb973720",
   "metadata": {},
   "outputs": [
    {
     "name": "stdout",
     "output_type": "stream",
     "text": [
      "3\n"
     ]
    }
   ],
   "source": [
    "def test_func1(x,y):\n",
    "    return x+y\n",
    "print(test_func1(1,2))"
   ]
  },
  {
   "cell_type": "markdown",
   "id": "298819c3",
   "metadata": {},
   "source": [
    "### 問題4\n",
    "4. 文字列の長さを返す関数を作成してください。"
   ]
  },
  {
   "cell_type": "code",
   "execution_count": 4,
   "id": "5bca85b3",
   "metadata": {},
   "outputs": [
    {
     "data": {
      "text/plain": [
       "9"
      ]
     },
     "execution_count": 4,
     "metadata": {},
     "output_type": "execute_result"
    }
   ],
   "source": [
    "def test_func2(test_str):\n",
    "    return len(test_str)\n",
    "test_func2(\"nyan nyan\")"
   ]
  },
  {
   "cell_type": "markdown",
   "id": "94a1e184",
   "metadata": {},
   "source": [
    "### 問題5\n",
    "5. リストの合計を返す関数を作成してください。"
   ]
  },
  {
   "cell_type": "code",
   "execution_count": 5,
   "id": "29e1c9e2",
   "metadata": {},
   "outputs": [
    {
     "name": "stdout",
     "output_type": "stream",
     "text": [
      "55\n"
     ]
    }
   ],
   "source": [
    "def test_func3(test_list):\n",
    "    total = 0\n",
    "    for i in test_list:\n",
    "        total += i\n",
    "    return total\n",
    "print(test_func3([1,2,3,4,5,6,7,8,9,10]))"
   ]
  }
 ],
 "metadata": {
  "kernelspec": {
   "display_name": "ai-study",
   "language": "python",
   "name": "python3"
  },
  "language_info": {
   "codemirror_mode": {
    "name": "ipython",
    "version": 3
   },
   "file_extension": ".py",
   "mimetype": "text/x-python",
   "name": "python",
   "nbconvert_exporter": "python",
   "pygments_lexer": "ipython3",
   "version": "3.11.13"
  }
 },
 "nbformat": 4,
 "nbformat_minor": 5
}
