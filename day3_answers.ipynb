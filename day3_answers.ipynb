{
 "cells": [
  {
   "cell_type": "markdown",
   "id": "baa0c5e0",
   "metadata": {},
   "source": [
    "# Day 3 - リストの基本操作（解答付き）\n",
    "\n",
    "以下は解答例です。"
   ]
  },
  {
   "cell_type": "markdown",
   "id": "c44af23c",
   "metadata": {},
   "source": [
    "### 問題1\n",
    "1. 数字を含むリストを作成し、すべて出力してください。"
   ]
  },
  {
   "cell_type": "markdown",
   "id": "948b8c41",
   "metadata": {},
   "source": [
    "### 問題2\n",
    "2. リストの3番目の要素を取得して出力してください。"
   ]
  },
  {
   "cell_type": "markdown",
   "id": "10e6b6a5",
   "metadata": {},
   "source": [
    "### 問題3\n",
    "3. リストに新しい要素を追加してください。"
   ]
  },
  {
   "cell_type": "markdown",
   "id": "996de667",
   "metadata": {},
   "source": [
    "### 問題4\n",
    "4. リストから特定の要素を削除してください。"
   ]
  },
  {
   "cell_type": "markdown",
   "id": "18eb1af5",
   "metadata": {},
   "source": [
    "### 問題5\n",
    "5. リストの要素数を取得してください。"
   ]
  },
  {
   "cell_type": "code",
   "execution_count": null,
   "id": "240f1b67",
   "metadata": {},
   "outputs": [],
   "source": [
    "numbers = [1, 2, 3, 4, 5]\n",
    "print(numbers)"
   ]
  },
  {
   "cell_type": "code",
   "execution_count": null,
   "id": "45e67f59",
   "metadata": {},
   "outputs": [],
   "source": [
    "numbers = [1, 2, 3, 4, 5]\n",
    "print(numbers[2])"
   ]
  },
  {
   "cell_type": "code",
   "execution_count": null,
   "id": "89c6fa63",
   "metadata": {},
   "outputs": [],
   "source": [
    "numbers = [1, 2, 3]\n",
    "numbers.append(4)\n",
    "print(numbers)"
   ]
  },
  {
   "cell_type": "code",
   "execution_count": null,
   "id": "fa7b6aa1",
   "metadata": {},
   "outputs": [],
   "source": [
    "numbers = [1, 2, 3, 4]\n",
    "numbers.remove(2)\n",
    "print(numbers)"
   ]
  },
  {
   "cell_type": "code",
   "execution_count": null,
   "id": "db9a5955",
   "metadata": {},
   "outputs": [],
   "source": [
    "numbers = [1, 2, 3]\n",
    "print(len(numbers))"
   ]
  }
 ],
 "metadata": {},
 "nbformat": 4,
 "nbformat_minor": 5
}
