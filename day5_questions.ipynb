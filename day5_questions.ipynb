{
 "cells": [
  {
   "cell_type": "markdown",
   "id": "98dc7fb4",
   "metadata": {},
   "source": [
    "# Day 5 - 文字列操作の基礎\n",
    "\n",
    "以下の問題に答えてください。"
   ]
  },
  {
   "cell_type": "markdown",
   "id": "7c0baed7",
   "metadata": {},
   "source": [
    "### 問題1\n",
    "1. 自分の名前を変数に代入して出力してください。"
   ]
  },
  {
   "cell_type": "markdown",
   "id": "45e6abfd",
   "metadata": {},
   "source": [
    "### 問題2\n",
    "2. 名前の文字数を取得してください。"
   ]
  },
  {
   "cell_type": "markdown",
   "id": "79815814",
   "metadata": {},
   "source": [
    "### 問題3\n",
    "3. 文字列を大文字に変換してください。"
   ]
  },
  {
   "cell_type": "markdown",
   "id": "923923a9",
   "metadata": {},
   "source": [
    "### 問題4\n",
    "4. 文字列を小文字に変換してください。"
   ]
  },
  {
   "cell_type": "markdown",
   "id": "533f9d78",
   "metadata": {},
   "source": [
    "### 問題5\n",
    "5. スペースで文字列を分割してください。"
   ]
  },
  {
   "cell_type": "code",
   "execution_count": null,
   "id": "88b7b425",
   "metadata": {},
   "outputs": [],
   "source": [
    "# ここにコードを書いてください"
   ]
  },
  {
   "cell_type": "code",
   "execution_count": null,
   "id": "7caee594",
   "metadata": {},
   "outputs": [],
   "source": [
    "# ここにコードを書いてください"
   ]
  },
  {
   "cell_type": "code",
   "execution_count": null,
   "id": "6f86d45a",
   "metadata": {},
   "outputs": [],
   "source": [
    "# ここにコードを書いてください"
   ]
  },
  {
   "cell_type": "code",
   "execution_count": null,
   "id": "cf94db87",
   "metadata": {},
   "outputs": [],
   "source": [
    "# ここにコードを書いてください"
   ]
  },
  {
   "cell_type": "code",
   "execution_count": null,
   "id": "0cef569e",
   "metadata": {},
   "outputs": [],
   "source": [
    "# ここにコードを書いてください"
   ]
  }
 ],
 "metadata": {},
 "nbformat": 4,
 "nbformat_minor": 5
}
