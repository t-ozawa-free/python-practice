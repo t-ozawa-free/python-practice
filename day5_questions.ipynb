{
 "cells": [
  {
   "cell_type": "markdown",
   "id": "98dc7fb4",
   "metadata": {},
   "source": [
    "# Day 5 - 文字列操作の基礎\n",
    "\n",
    "以下の問題に答えてください。"
   ]
  },
  {
   "cell_type": "markdown",
   "id": "7c0baed7",
   "metadata": {},
   "source": [
    "### 問題1\n",
    "1. 自分の名前を変数に代入して出力してください。"
   ]
  },
  {
   "cell_type": "code",
   "execution_count": 1,
   "id": "b70bc64a",
   "metadata": {},
   "outputs": [
    {
     "name": "stdout",
     "output_type": "stream",
     "text": [
      "紅葉\n"
     ]
    }
   ],
   "source": [
    "name = \"紅葉\"\n",
    "print(name)"
   ]
  },
  {
   "cell_type": "markdown",
   "id": "45e6abfd",
   "metadata": {},
   "source": [
    "### 問題2\n",
    "2. 名前の文字数を取得してください。"
   ]
  },
  {
   "cell_type": "code",
   "execution_count": null,
   "id": "90bc99b2",
   "metadata": {},
   "outputs": [
    {
     "name": "stdout",
     "output_type": "stream",
     "text": [
      "4\n"
     ]
    }
   ],
   "source": [
    "name = \"中原紅葉\"\n",
    "name_num = len(name)\n",
    "print(name_num)\n"
   ]
  },
  {
   "cell_type": "markdown",
   "id": "79815814",
   "metadata": {},
   "source": [
    "### 問題3\n",
    "3. 文字列を大文字に変換してください。"
   ]
  },
  {
   "cell_type": "code",
   "execution_count": 3,
   "id": "c28a3ac4",
   "metadata": {},
   "outputs": [
    {
     "name": "stdout",
     "output_type": "stream",
     "text": [
      "TOMOYUKI OZAWA\n"
     ]
    }
   ],
   "source": [
    "name = \"tomoyuki ozawa\"\n",
    "print(name.upper())"
   ]
  },
  {
   "cell_type": "markdown",
   "id": "923923a9",
   "metadata": {},
   "source": [
    "### 問題4\n",
    "4. 文字列を小文字に変換してください。"
   ]
  },
  {
   "cell_type": "code",
   "execution_count": 4,
   "id": "5a6dc45d",
   "metadata": {},
   "outputs": [
    {
     "name": "stdout",
     "output_type": "stream",
     "text": [
      "tomoyuki ozawa\n"
     ]
    }
   ],
   "source": [
    "name = \"TOMOYUKI OZAWA\"\n",
    "print(name.lower())"
   ]
  },
  {
   "cell_type": "markdown",
   "id": "533f9d78",
   "metadata": {},
   "source": [
    "### 問題5\n",
    "5. スペースで文字列を分割してください。"
   ]
  },
  {
   "cell_type": "code",
   "execution_count": 5,
   "id": "88b7b425",
   "metadata": {},
   "outputs": [
    {
     "name": "stdout",
     "output_type": "stream",
     "text": [
      "['cat', 'dog', 'fox', 'nyaa']\n"
     ]
    }
   ],
   "source": [
    "str = \"cat dog fox nyaa\"\n",
    "str_list = str.split()\n",
    "print(str_list)"
   ]
  },
  {
   "cell_type": "code",
   "execution_count": null,
   "id": "671efa9b",
   "metadata": {},
   "outputs": [],
   "source": []
  }
 ],
 "metadata": {
  "kernelspec": {
   "display_name": "ai-study",
   "language": "python",
   "name": "python3"
  },
  "language_info": {
   "codemirror_mode": {
    "name": "ipython",
    "version": 3
   },
   "file_extension": ".py",
   "mimetype": "text/x-python",
   "name": "python",
   "nbconvert_exporter": "python",
   "pygments_lexer": "ipython3",
   "version": "3.11.13"
  }
 },
 "nbformat": 4,
 "nbformat_minor": 5
}
