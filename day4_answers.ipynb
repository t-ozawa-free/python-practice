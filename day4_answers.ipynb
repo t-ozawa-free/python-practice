{
 "cells": [
  {
   "cell_type": "markdown",
   "id": "8e5a9d4e",
   "metadata": {},
   "source": [
    "# Day 4 - 辞書の基本操作（解答付き）\n",
    "\n",
    "以下は解答例です。"
   ]
  },
  {
   "cell_type": "markdown",
   "id": "2ffb0098",
   "metadata": {},
   "source": [
    "### 問題1\n",
    "1. 名前と年齢をキーとする辞書を作成してください。"
   ]
  },
  {
   "cell_type": "markdown",
   "id": "2cae93c0",
   "metadata": {},
   "source": [
    "### 問題2\n",
    "2. 辞書から名前を取得して出力してください。"
   ]
  },
  {
   "cell_type": "markdown",
   "id": "1303d2b3",
   "metadata": {},
   "source": [
    "### 問題3\n",
    "3. 年齢を更新してください。"
   ]
  },
  {
   "cell_type": "markdown",
   "id": "afc94fb5",
   "metadata": {},
   "source": [
    "### 問題4\n",
    "4. 新しいキーと値を追加してください。"
   ]
  },
  {
   "cell_type": "markdown",
   "id": "55d0ef5c",
   "metadata": {},
   "source": [
    "### 問題5\n",
    "5. 辞書の全てのキーを出力してください。"
   ]
  },
  {
   "cell_type": "code",
   "execution_count": null,
   "id": "0315163c",
   "metadata": {},
   "outputs": [],
   "source": [
    "person = {'name': 'Taro', 'age': 25}\n",
    "print(person)"
   ]
  },
  {
   "cell_type": "code",
   "execution_count": null,
   "id": "0fbfe201",
   "metadata": {},
   "outputs": [],
   "source": [
    "person = {'name': 'Taro', 'age': 25}\n",
    "print(person['name'])"
   ]
  },
  {
   "cell_type": "code",
   "execution_count": null,
   "id": "3c5f7a8e",
   "metadata": {},
   "outputs": [],
   "source": [
    "person = {'name': 'Taro', 'age': 25}\n",
    "person['age'] = 30\n",
    "print(person)"
   ]
  },
  {
   "cell_type": "code",
   "execution_count": null,
   "id": "fa3caf4d",
   "metadata": {},
   "outputs": [],
   "source": [
    "person = {'name': 'Taro'}\n",
    "person['job'] = 'Engineer'\n",
    "print(person)"
   ]
  },
  {
   "cell_type": "code",
   "execution_count": 1,
   "id": "de767335",
   "metadata": {},
   "outputs": [
    {
     "name": "stdout",
     "output_type": "stream",
     "text": [
      "dict_keys(['name', 'age'])\n"
     ]
    }
   ],
   "source": [
    "person = {'name': 'Taro', 'age': 25}\n",
    "print(person.keys())"
   ]
  },
  {
   "cell_type": "code",
   "execution_count": null,
   "id": "0bd8438b",
   "metadata": {},
   "outputs": [],
   "source": []
  }
 ],
 "metadata": {
  "kernelspec": {
   "display_name": "ai-study",
   "language": "python",
   "name": "python3"
  },
  "language_info": {
   "codemirror_mode": {
    "name": "ipython",
    "version": 3
   },
   "file_extension": ".py",
   "mimetype": "text/x-python",
   "name": "python",
   "nbconvert_exporter": "python",
   "pygments_lexer": "ipython3",
   "version": "3.11.13"
  }
 },
 "nbformat": 4,
 "nbformat_minor": 5
}
