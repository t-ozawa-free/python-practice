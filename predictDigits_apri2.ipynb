{
 "cells": [
  {
   "cell_type": "code",
   "execution_count": 1,
   "id": "9907098e",
   "metadata": {},
   "outputs": [],
   "source": [
    "import PIL.ImageTk\n",
    "import sklearn.datasets\n",
    "import sklearn.svm\n",
    "import PIL.Image\n",
    "import PIL.ImageTk\n",
    "import numpy\n",
    "\n",
    "import tkinter as tk\n",
    "import tkinter.filedialog as fd\n",
    "\n",
    "#画像ファイルを数値リストに変換する\n",
    "def imageToData(filename):\n",
    "    #画像を8x8のグレーススケールに変換\n",
    "    grayImage = PIL.Image.open(filename).convert(\"L\") #読み込んだ画像をグレースケースに変換\n",
    "    grayImage = grayImage.resize((8,8),PIL.Image.Resampling.LANCZOS) #8x8に変換して\n",
    "    imageData = PIL.ImageTk.PhotoImage(grayImage.resize((300,300),PIL.Image.Resampling.NEAREST))\n",
    "    imageLabel.configure(image = imageData)\n",
    "    imageLabel.image = imageData \n",
    "\n",
    "    #数値リストに変換\n",
    "    numImage = numpy.asarray(grayImage, dtype = float)\n",
    "    numImage = 16 - numpy.floor(17 * numImage / 256)\n",
    "    numImage = numImage.flatten()\n",
    "   \n",
    "    return numImage\n",
    "#数字を予測する\n",
    "def predictDigits(data):\n",
    "    #学習用データを読み込む\n",
    "    digits = sklearn.datasets.load_digits()\n",
    "    #機械学習する\n",
    "    clf = sklearn.svm.SVC(gamma = 0.001)\n",
    "    clf.fit(digits.data, digits.target)\n",
    "    #予測結果を表示する\n",
    "    n = clf.predict([data])\n",
    "    textLabel.configure(text = \"この画像は\"+str(n)+\"です！\")\n",
    "\n",
    "def openFile():\n",
    "    fpath = fd.askopenfilename()\n",
    "    if fpath:\n",
    "        data = imageToData(fpath)\n",
    "        predictDigits(data)\n",
    "\n",
    "\n",
    "root = tk.Tk()  #画面を作る\n",
    "root.geometry(\"400x400\")    #画面の大きさを200x200にする。\n",
    "\n",
    "btn = tk.Button(text = \"ファイルを開く\", command = openFile)\n",
    "imageLabel = tk.Label() #画面表示用のラベルを作る\n",
    "btn.pack()  #画面にボタンを配置する。\n",
    "imageLabel.pack()\n",
    "textLabel = tk.Label(text = \"手書きの数字を認識するよ！\")\n",
    "textLabel.pack()\n",
    "tk.mainloop()\n",
    "\n",
    "\n",
    "#画像ファイルを数値リストに変換する\n",
    "#data = imageToData(\"2-3.png\")\n",
    "#数字を予測する\n",
    "#predictDigits(data)"
   ]
  },
  {
   "cell_type": "code",
   "execution_count": null,
   "id": "f3b031e3",
   "metadata": {},
   "outputs": [],
   "source": []
  },
  {
   "cell_type": "code",
   "execution_count": null,
   "id": "1731f772",
   "metadata": {},
   "outputs": [],
   "source": []
  }
 ],
 "metadata": {
  "kernelspec": {
   "display_name": "ai-study",
   "language": "python",
   "name": "python3"
  },
  "language_info": {
   "codemirror_mode": {
    "name": "ipython",
    "version": 3
   },
   "file_extension": ".py",
   "mimetype": "text/x-python",
   "name": "python",
   "nbconvert_exporter": "python",
   "pygments_lexer": "ipython3",
   "version": "3.11.13"
  }
 },
 "nbformat": 4,
 "nbformat_minor": 5
}
