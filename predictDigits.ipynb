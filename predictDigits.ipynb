{
 "cells": [
  {
   "cell_type": "code",
   "execution_count": 8,
   "id": "9907098e",
   "metadata": {},
   "outputs": [
    {
     "name": "stdout",
     "output_type": "stream",
     "text": [
      "予測= [2]\n"
     ]
    }
   ],
   "source": [
    "import sklearn.datasets\n",
    "import sklearn.svm\n",
    "import PIL.Image\n",
    "import numpy\n",
    "\n",
    "#画像ファイルを数値リストに変換する\n",
    "def imageToData(filename):\n",
    "    #画像を8x8のグレーススケールに変換\n",
    "    grayImage = PIL.Image.open(filename).convert(\"L\")\n",
    "    grayImage = grayImage.resize((8,8),PIL.Image.Resampling.LANCZOS)\n",
    "    #数値リストに変換\n",
    "    numImage = numpy.asarray(grayImage, dtype = float)\n",
    "    numImage = 16 - numpy.floor(17 * numImage / 256)\n",
    "    numImage = numImage.flatten()\n",
    "\n",
    "    return numImage\n",
    "#数字を予測する\n",
    "def predictDigits(data):\n",
    "    #学習用データを読み込む\n",
    "    digits = sklearn.datasets.load_digits()\n",
    "    #機械学習する\n",
    "    clf = sklearn.svm.SVC(gamma = 0.001)\n",
    "    clf.fit(digits.data, digits.target)\n",
    "    #予測結果を表示する\n",
    "    n = clf.predict([data])\n",
    "    print(\"予測=\",n)\n",
    "#画像ファイルを数値リストに変換する\n",
    "data = imageToData(\"2-3.png\")\n",
    "#数字を予測する\n",
    "predictDigits(data)"
   ]
  },
  {
   "cell_type": "code",
   "execution_count": null,
   "id": "f3b031e3",
   "metadata": {},
   "outputs": [],
   "source": []
  }
 ],
 "metadata": {
  "kernelspec": {
   "display_name": "ai-study",
   "language": "python",
   "name": "python3"
  },
  "language_info": {
   "codemirror_mode": {
    "name": "ipython",
    "version": 3
   },
   "file_extension": ".py",
   "mimetype": "text/x-python",
   "name": "python",
   "nbconvert_exporter": "python",
   "pygments_lexer": "ipython3",
   "version": "3.11.13"
  }
 },
 "nbformat": 4,
 "nbformat_minor": 5
}
